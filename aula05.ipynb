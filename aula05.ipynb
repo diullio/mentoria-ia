{
 "cells": [
  {
   "cell_type": "code",
   "execution_count": 7,
   "metadata": {},
   "outputs": [
    {
     "name": "stdout",
     "output_type": "stream",
     "text": [
      "^C\n"
     ]
    }
   ],
   "source": [
    "!pip install db-sqlite3"
   ]
  },
  {
   "cell_type": "code",
   "execution_count": 8,
   "metadata": {},
   "outputs": [
    {
     "name": "stdout",
     "output_type": "stream",
     "text": [
      "Requirement already satisfied: db-sqlite3 in c:\\programdata\\anaconda3\\envs\\ds-3.8\\lib\\site-packages (0.0.1)\n",
      "Requirement already satisfied: db in c:\\programdata\\anaconda3\\envs\\ds-3.8\\lib\\site-packages (from db-sqlite3) (0.1.1)\n",
      "Requirement already satisfied: antiorm in c:\\programdata\\anaconda3\\envs\\ds-3.8\\lib\\site-packages (from db->db-sqlite3) (1.2.1)\n"
     ]
    }
   ],
   "source": [
    "import sqlite3"
   ]
  },
  {
   "cell_type": "markdown",
   "metadata": {},
   "source": [
    "# Conectar ou criar o banco de dados SQLite\n",
    "\n",
    "conn = sqlite3.connect('meu_banco.db')\n",
    "cursor = conn.cursor()\n",
    "\n",
    "# Criar a tabela 'cadastro'\n",
    "\n",
    "cursor.execute('''\n",
    "CREATE TABLE IF NOT EXISTS cadastro (\n",
    "id INTEGER PRIMARY KEY AUTOINCREMENT UNIQUE,\n",
    "nome_material TEXT,\n",
    "lote TEXT,\n",
    "quantidade INTEGER,\n",
    "unidade TEXT,\n",
    "solicitante TEXT,\n",
    "validade DATE,\n",
    "tipo_material TEXT,\n",
    "FOREIGN KEY (solicitante) REFERENCES usuario (nome)\n",
    ")\n",
    "''')\n",
    "\n",
    "# Criar a tabela 'usuario'\n",
    "\n",
    "cursor.execute('''\n",
    "CREATE TABLE IF NOT EXISTS usuario (\n",
    "id INTEGER PRIMARY KEY AUTOINCREMENT UNIQUE,\n",
    "nome TEXT UNIQUE,\n",
    "setor TEXT,\n",
    "email TEXT\n",
    ")\n",
    "''')\n",
    "\n",
    "# Confirmar mudanças e fechar a conexão\n",
    "\n",
    "conn.commit()\n",
    "conn.close()\n",
    "\n",
    "print(\"Tabelas criadas com sucesso.\")\n"
   ]
  },
  {
   "cell_type": "code",
   "execution_count": 9,
   "metadata": {},
   "outputs": [],
   "source": [
    "conn = sqlite3.connect('estoque.db')\n",
    "cursor = conn.cursor()"
   ]
  },
  {
   "cell_type": "code",
   "execution_count": 10,
   "metadata": {},
   "outputs": [
    {
     "data": {
      "text/plain": [
       "<sqlite3.Cursor at 0x20947473570>"
      ]
     },
     "execution_count": 10,
     "metadata": {},
     "output_type": "execute_result"
    }
   ],
   "source": [
    "cursor.execute('''\n",
    "CREATE TABLE IF NOT EXISTS cadastro (\n",
    "id INTEGER PRIMARY KEY AUTOINCREMENT UNIQUE,\n",
    "nome_material TEXT,\n",
    "lote TEXT,\n",
    "quantidade INTEGER,\n",
    "unidade TEXT,\n",
    "solicitante TEXT,\n",
    "validade DATE,\n",
    "tipo_material TEXT,\n",
    "FOREIGN KEY (solicitante) REFERENCES usuario (nome)\n",
    ")\n",
    "''')"
   ]
  },
  {
   "cell_type": "code",
   "execution_count": 11,
   "metadata": {},
   "outputs": [
    {
     "data": {
      "text/plain": [
       "<sqlite3.Cursor at 0x20947473570>"
      ]
     },
     "execution_count": 11,
     "metadata": {},
     "output_type": "execute_result"
    }
   ],
   "source": [
    "cursor.execute('''\n",
    "CREATE TABLE IF NOT EXISTS usuario (\n",
    "id INTEGER PRIMARY KEY AUTOINCREMENT UNIQUE,\n",
    "nome TEXT UNIQUE,\n",
    "setor TEXT,\n",
    "email TEXT\n",
    ")\n",
    "''')"
   ]
  },
  {
   "cell_type": "code",
   "execution_count": 12,
   "metadata": {},
   "outputs": [],
   "source": [
    "conn.commit()\n",
    "conn.close()"
   ]
  },
  {
   "cell_type": "markdown",
   "metadata": {},
   "source": [
    "## CRUD COM SQLITE\n"
   ]
  },
  {
   "cell_type": "code",
   "execution_count": 13,
   "metadata": {},
   "outputs": [],
   "source": [
    "def inserir_usuario(nome, setor, email):\n",
    "    conn = sqlite3.connect('estoque.db')\n",
    "    cursor = conn.cursor()\n",
    "    cursor.execute(\"INSERT INTO usuario (nome, setor, email) VALUES (?, ?, ?)\", (nome, setor, email))\n",
    "    conn.commit()\n",
    "    conn.close()"
   ]
  },
  {
   "cell_type": "code",
   "execution_count": 14,
   "metadata": {},
   "outputs": [],
   "source": [
    "def listar_usuarios():\n",
    "    conn = sqlite3.connect('estoque.db')\n",
    "    cursor = conn.cursor()\n",
    "    cursor.execute(\"SELECT * FROM usuario\")\n",
    "    resultado = cursor.fetchall()     #fetchall - retorna todos, fetchone - retorna um\n",
    "    conn.close()\n",
    "    return resultado"
   ]
  },
  {
   "cell_type": "code",
   "execution_count": 19,
   "metadata": {},
   "outputs": [],
   "source": [
    "def atualizar_usuario(nome, setor, email):\n",
    "    conn = sqlite3.connect('estoque.db')\n",
    "    cursor = conn.cursor()\n",
    "    cursor.execute(\"UPDATE usuario SET setor = ?, email = ? WHERE nome = ?\", (setor, email, nome))\n",
    "    conn.commit()\n",
    "    conn.close()"
   ]
  },
  {
   "cell_type": "code",
   "execution_count": 15,
   "metadata": {},
   "outputs": [],
   "source": [
    "nome = 'Diullio'\n",
    "setor = 'DA'\n",
    "email = 'diullio@hotmail.com'"
   ]
  },
  {
   "cell_type": "code",
   "execution_count": 16,
   "metadata": {},
   "outputs": [],
   "source": [
    "inserir_usuario(nome, setor, email)"
   ]
  },
  {
   "cell_type": "code",
   "execution_count": 18,
   "metadata": {},
   "outputs": [
    {
     "data": {
      "text/plain": [
       "[(1, 'Diullio', 'DA', 'diullio@hotmail.com')]"
      ]
     },
     "execution_count": 18,
     "metadata": {},
     "output_type": "execute_result"
    }
   ],
   "source": [
    "listar_usuarios()"
   ]
  },
  {
   "cell_type": "code",
   "execution_count": 22,
   "metadata": {},
   "outputs": [],
   "source": [
    "atualizar_usuario('Diullio', 'Dev', 'diullio@hotmail.com')"
   ]
  },
  {
   "cell_type": "code",
   "execution_count": 24,
   "metadata": {},
   "outputs": [],
   "source": [
    "resultado = listar_usuarios()"
   ]
  },
  {
   "cell_type": "code",
   "execution_count": 33,
   "metadata": {},
   "outputs": [
    {
     "data": {
      "text/plain": [
       "'Diullio'"
      ]
     },
     "execution_count": 33,
     "metadata": {},
     "output_type": "execute_result"
    }
   ],
   "source": [
    "resultado[0][1]"
   ]
  },
  {
   "cell_type": "code",
   "execution_count": 32,
   "metadata": {},
   "outputs": [],
   "source": [
    "def excluir_dados(nome):\n",
    "    conn = sqlite3.connect('estoque.db')\n",
    "    cursor = conn.cursor()\n",
    "    cursor.execute(\"DELETE FROM usuario WHERE nome = ?\", (nome,))\n",
    "    conn.commit()\n",
    "    conn.close()"
   ]
  },
  {
   "cell_type": "code",
   "execution_count": 34,
   "metadata": {},
   "outputs": [],
   "source": [
    "excluir_dados(resultado[0][1])"
   ]
  },
  {
   "cell_type": "code",
   "execution_count": 35,
   "metadata": {},
   "outputs": [
    {
     "data": {
      "text/plain": [
       "[]"
      ]
     },
     "execution_count": 35,
     "metadata": {},
     "output_type": "execute_result"
    }
   ],
   "source": [
    "listar_usuarios()"
   ]
  },
  {
   "cell_type": "code",
   "execution_count": 37,
   "metadata": {},
   "outputs": [],
   "source": [
    "usuarios = [\n",
    "    ('Diullio', 'Dev', 'diullio@hotmail.com'),\n",
    "    ('Luiz Fernando', 'DA', 'Teste'),\n",
    "    ('Luiz Gustavo', 'VSC', 'Teste')\n",
    "]"
   ]
  },
  {
   "cell_type": "code",
   "execution_count": 42,
   "metadata": {},
   "outputs": [],
   "source": [
    "for usuario in usuarios:\n",
    "    inserir_usuario(usuario[0], usuario[1], usuario[2])"
   ]
  },
  {
   "cell_type": "code",
   "execution_count": 43,
   "metadata": {},
   "outputs": [
    {
     "data": {
      "text/plain": [
       "[(2, 'Diullio', 'Dev', 'diullio@hotmail.com'),\n",
       " (3, 'Luiz Fernando', 'DA', 'Teste'),\n",
       " (4, 'Luiz Gustavo', 'VSC', 'Teste')]"
      ]
     },
     "execution_count": 43,
     "metadata": {},
     "output_type": "execute_result"
    }
   ],
   "source": [
    "listar_usuarios()"
   ]
  },
  {
   "cell_type": "code",
   "execution_count": 45,
   "metadata": {},
   "outputs": [],
   "source": [
    "import pandas as pd"
   ]
  },
  {
   "cell_type": "code",
   "execution_count": 46,
   "metadata": {},
   "outputs": [],
   "source": [
    "df = pd.read_excel('teste.xlsx')"
   ]
  },
  {
   "cell_type": "code",
   "execution_count": 47,
   "metadata": {},
   "outputs": [
    {
     "data": {
      "text/html": [
       "<div>\n",
       "<style scoped>\n",
       "    .dataframe tbody tr th:only-of-type {\n",
       "        vertical-align: middle;\n",
       "    }\n",
       "\n",
       "    .dataframe tbody tr th {\n",
       "        vertical-align: top;\n",
       "    }\n",
       "\n",
       "    .dataframe thead th {\n",
       "        text-align: right;\n",
       "    }\n",
       "</style>\n",
       "<table border=\"1\" class=\"dataframe\">\n",
       "  <thead>\n",
       "    <tr style=\"text-align: right;\">\n",
       "      <th></th>\n",
       "      <th>nome_material</th>\n",
       "      <th>lote</th>\n",
       "      <th>quantidade</th>\n",
       "      <th>unidade</th>\n",
       "      <th>solicitante</th>\n",
       "      <th>validade</th>\n",
       "      <th>tipo_material</th>\n",
       "    </tr>\n",
       "  </thead>\n",
       "  <tbody>\n",
       "    <tr>\n",
       "      <th>0</th>\n",
       "      <td>blister</td>\n",
       "      <td>15B25</td>\n",
       "      <td>5</td>\n",
       "      <td>un</td>\n",
       "      <td>Diullio</td>\n",
       "      <td>2026-02-01</td>\n",
       "      <td>material</td>\n",
       "    </tr>\n",
       "    <tr>\n",
       "      <th>1</th>\n",
       "      <td>caixa</td>\n",
       "      <td>15B26</td>\n",
       "      <td>15</td>\n",
       "      <td>cx</td>\n",
       "      <td>Luiz Gustavo</td>\n",
       "      <td>2026-02-02</td>\n",
       "      <td>material</td>\n",
       "    </tr>\n",
       "    <tr>\n",
       "      <th>2</th>\n",
       "      <td>acetonitrila</td>\n",
       "      <td>15B27</td>\n",
       "      <td>60</td>\n",
       "      <td>frasco</td>\n",
       "      <td>Luis Fernando</td>\n",
       "      <td>2026-02-03</td>\n",
       "      <td>reagente</td>\n",
       "    </tr>\n",
       "    <tr>\n",
       "      <th>3</th>\n",
       "      <td>metanol</td>\n",
       "      <td>15B28</td>\n",
       "      <td>58</td>\n",
       "      <td>frasco</td>\n",
       "      <td>Diullio</td>\n",
       "      <td>2026-02-04</td>\n",
       "      <td>reagente</td>\n",
       "    </tr>\n",
       "    <tr>\n",
       "      <th>4</th>\n",
       "      <td>padrao</td>\n",
       "      <td>15B29</td>\n",
       "      <td>10</td>\n",
       "      <td>frasco</td>\n",
       "      <td>Joao</td>\n",
       "      <td>2026-02-05</td>\n",
       "      <td>material</td>\n",
       "    </tr>\n",
       "  </tbody>\n",
       "</table>\n",
       "</div>"
      ],
      "text/plain": [
       "  nome_material   lote  quantidade unidade    solicitante   validade  \\\n",
       "0       blister  15B25           5      un        Diullio 2026-02-01   \n",
       "1         caixa  15B26          15      cx   Luiz Gustavo 2026-02-02   \n",
       "2  acetonitrila  15B27          60  frasco  Luis Fernando 2026-02-03   \n",
       "3       metanol  15B28          58  frasco        Diullio 2026-02-04   \n",
       "4        padrao  15B29          10  frasco           Joao 2026-02-05   \n",
       "\n",
       "  tipo_material  \n",
       "0      material  \n",
       "1      material  \n",
       "2      reagente  \n",
       "3      reagente  \n",
       "4      material  "
      ]
     },
     "execution_count": 47,
     "metadata": {},
     "output_type": "execute_result"
    }
   ],
   "source": [
    "df"
   ]
  },
  {
   "cell_type": "code",
   "execution_count": 48,
   "metadata": {},
   "outputs": [
    {
     "name": "stdout",
     "output_type": "stream",
     "text": [
      "<class 'pandas.core.frame.DataFrame'>\n",
      "RangeIndex: 5 entries, 0 to 4\n",
      "Data columns (total 7 columns):\n",
      " #   Column         Non-Null Count  Dtype         \n",
      "---  ------         --------------  -----         \n",
      " 0   nome_material  5 non-null      object        \n",
      " 1   lote           5 non-null      object        \n",
      " 2   quantidade     5 non-null      int64         \n",
      " 3   unidade        5 non-null      object        \n",
      " 4   solicitante    5 non-null      object        \n",
      " 5   validade       5 non-null      datetime64[ns]\n",
      " 6   tipo_material  5 non-null      object        \n",
      "dtypes: datetime64[ns](1), int64(1), object(5)\n",
      "memory usage: 408.0+ bytes\n"
     ]
    }
   ],
   "source": [
    "df.info()"
   ]
  },
  {
   "cell_type": "code",
   "execution_count": 65,
   "metadata": {},
   "outputs": [],
   "source": [
    "def usuario_existe(solicitante):\n",
    "    conn = sqlite3.connect('estoque.db')\n",
    "    cursor = conn.cursor()\n",
    "    cursor.execute(\"SELECT nome FROM usuario WHERE nome = ?\", (solicitante,))\n",
    "    existe = cursor.fetchone() is not None\n",
    "    conn.close()\n",
    "    return existe"
   ]
  },
  {
   "cell_type": "code",
   "execution_count": 66,
   "metadata": {},
   "outputs": [],
   "source": [
    "usuarios = df['solicitante'].tolist()"
   ]
  },
  {
   "cell_type": "code",
   "execution_count": 67,
   "metadata": {},
   "outputs": [
    {
     "data": {
      "text/plain": [
       "['Diullio', 'Luiz Gustavo', 'Luis Fernando', 'Diullio', 'Joao']"
      ]
     },
     "execution_count": 67,
     "metadata": {},
     "output_type": "execute_result"
    }
   ],
   "source": [
    "usuarios"
   ]
  },
  {
   "cell_type": "code",
   "execution_count": 69,
   "metadata": {},
   "outputs": [],
   "source": [
    "usuarios_cadastrar = []\n",
    "for usuario in usuarios:\n",
    "    existe = usuario_existe(usuario)\n",
    "    if existe == False:\n",
    "        usuarios_cadastrar.append(usuario)"
   ]
  },
  {
   "cell_type": "code",
   "execution_count": 70,
   "metadata": {},
   "outputs": [
    {
     "data": {
      "text/plain": [
       "['Luis Fernando', 'Joao']"
      ]
     },
     "execution_count": 70,
     "metadata": {},
     "output_type": "execute_result"
    }
   ],
   "source": [
    "usuarios_cadastrar"
   ]
  },
  {
   "cell_type": "code",
   "execution_count": 75,
   "metadata": {},
   "outputs": [
    {
     "name": "stdout",
     "output_type": "stream",
     "text": [
      "Cadastrado\n",
      "Cadastrado\n"
     ]
    }
   ],
   "source": [
    "for usuario in usuarios_cadastrar:\n",
    "    inserir_usuario(usuario, 'teste', 'teste')\n",
    "    conn.close()\n",
    "    print('Cadastrado')"
   ]
  },
  {
   "cell_type": "code",
   "execution_count": 76,
   "metadata": {},
   "outputs": [
    {
     "data": {
      "text/plain": [
       "[(2, 'Diullio', 'Dev', 'diullio@hotmail.com'),\n",
       " (3, 'Luiz Fernando', 'DA', 'Teste'),\n",
       " (4, 'Luiz Gustavo', 'VSC', 'Teste'),\n",
       " (5, 'Luis Fernando', 'teste', 'teste'),\n",
       " (6, 'Joao', 'teste', 'teste')]"
      ]
     },
     "execution_count": 76,
     "metadata": {},
     "output_type": "execute_result"
    }
   ],
   "source": [
    "listar_usuarios()"
   ]
  },
  {
   "cell_type": "code",
   "execution_count": 77,
   "metadata": {},
   "outputs": [
    {
     "data": {
      "text/html": [
       "<div>\n",
       "<style scoped>\n",
       "    .dataframe tbody tr th:only-of-type {\n",
       "        vertical-align: middle;\n",
       "    }\n",
       "\n",
       "    .dataframe tbody tr th {\n",
       "        vertical-align: top;\n",
       "    }\n",
       "\n",
       "    .dataframe thead th {\n",
       "        text-align: right;\n",
       "    }\n",
       "</style>\n",
       "<table border=\"1\" class=\"dataframe\">\n",
       "  <thead>\n",
       "    <tr style=\"text-align: right;\">\n",
       "      <th></th>\n",
       "      <th>nome_material</th>\n",
       "      <th>lote</th>\n",
       "      <th>quantidade</th>\n",
       "      <th>unidade</th>\n",
       "      <th>solicitante</th>\n",
       "      <th>validade</th>\n",
       "      <th>tipo_material</th>\n",
       "    </tr>\n",
       "  </thead>\n",
       "  <tbody>\n",
       "    <tr>\n",
       "      <th>0</th>\n",
       "      <td>blister</td>\n",
       "      <td>15B25</td>\n",
       "      <td>5</td>\n",
       "      <td>un</td>\n",
       "      <td>Diullio</td>\n",
       "      <td>2026-02-01</td>\n",
       "      <td>material</td>\n",
       "    </tr>\n",
       "    <tr>\n",
       "      <th>1</th>\n",
       "      <td>caixa</td>\n",
       "      <td>15B26</td>\n",
       "      <td>15</td>\n",
       "      <td>cx</td>\n",
       "      <td>Luiz Gustavo</td>\n",
       "      <td>2026-02-02</td>\n",
       "      <td>material</td>\n",
       "    </tr>\n",
       "    <tr>\n",
       "      <th>2</th>\n",
       "      <td>acetonitrila</td>\n",
       "      <td>15B27</td>\n",
       "      <td>60</td>\n",
       "      <td>frasco</td>\n",
       "      <td>Luis Fernando</td>\n",
       "      <td>2026-02-03</td>\n",
       "      <td>reagente</td>\n",
       "    </tr>\n",
       "    <tr>\n",
       "      <th>3</th>\n",
       "      <td>metanol</td>\n",
       "      <td>15B28</td>\n",
       "      <td>58</td>\n",
       "      <td>frasco</td>\n",
       "      <td>Diullio</td>\n",
       "      <td>2026-02-04</td>\n",
       "      <td>reagente</td>\n",
       "    </tr>\n",
       "    <tr>\n",
       "      <th>4</th>\n",
       "      <td>padrao</td>\n",
       "      <td>15B29</td>\n",
       "      <td>10</td>\n",
       "      <td>frasco</td>\n",
       "      <td>Joao</td>\n",
       "      <td>2026-02-05</td>\n",
       "      <td>material</td>\n",
       "    </tr>\n",
       "  </tbody>\n",
       "</table>\n",
       "</div>"
      ],
      "text/plain": [
       "  nome_material   lote  quantidade unidade    solicitante   validade  \\\n",
       "0       blister  15B25           5      un        Diullio 2026-02-01   \n",
       "1         caixa  15B26          15      cx   Luiz Gustavo 2026-02-02   \n",
       "2  acetonitrila  15B27          60  frasco  Luis Fernando 2026-02-03   \n",
       "3       metanol  15B28          58  frasco        Diullio 2026-02-04   \n",
       "4        padrao  15B29          10  frasco           Joao 2026-02-05   \n",
       "\n",
       "  tipo_material  \n",
       "0      material  \n",
       "1      material  \n",
       "2      reagente  \n",
       "3      reagente  \n",
       "4      material  "
      ]
     },
     "execution_count": 77,
     "metadata": {},
     "output_type": "execute_result"
    }
   ],
   "source": [
    "df"
   ]
  },
  {
   "cell_type": "code",
   "execution_count": 79,
   "metadata": {},
   "outputs": [],
   "source": [
    "def inserir_cadastro(df):\n",
    "    conn = sqlite3.connect('estoque.db')\n",
    "    cursor = conn.cursor()\n",
    "    cursor.execute(\"INSERT INTO cadastro (nome_material, lote, quantidade, unidade, solicitante, validade, tipo_material) VALUES (?, ?, ?, ?, ?, ?, ?)\", (df['nome_material'], df['lote'], df['quantidade'], df['unidade'], df['solicitante'], df['validade'], df['tipo_material']))\n",
    "    conn.commit()\n",
    "    conn.close()"
   ]
  },
  {
   "cell_type": "code",
   "execution_count": 82,
   "metadata": {},
   "outputs": [
    {
     "name": "stdout",
     "output_type": "stream",
     "text": [
      "<class 'pandas.core.frame.DataFrame'>\n",
      "RangeIndex: 5 entries, 0 to 4\n",
      "Data columns (total 7 columns):\n",
      " #   Column         Non-Null Count  Dtype         \n",
      "---  ------         --------------  -----         \n",
      " 0   nome_material  5 non-null      object        \n",
      " 1   lote           5 non-null      object        \n",
      " 2   quantidade     5 non-null      int64         \n",
      " 3   unidade        5 non-null      object        \n",
      " 4   solicitante    5 non-null      object        \n",
      " 5   validade       5 non-null      datetime64[ns]\n",
      " 6   tipo_material  5 non-null      object        \n",
      "dtypes: datetime64[ns](1), int64(1), object(5)\n",
      "memory usage: 408.0+ bytes\n"
     ]
    }
   ],
   "source": [
    "df.info()"
   ]
  },
  {
   "cell_type": "code",
   "execution_count": 83,
   "metadata": {},
   "outputs": [],
   "source": [
    "df['validade'] = df['validade'].dt.strftime('%Y-%m-%d')"
   ]
  },
  {
   "cell_type": "code",
   "execution_count": 84,
   "metadata": {},
   "outputs": [
    {
     "name": "stdout",
     "output_type": "stream",
     "text": [
      "<class 'pandas.core.frame.DataFrame'>\n",
      "RangeIndex: 5 entries, 0 to 4\n",
      "Data columns (total 7 columns):\n",
      " #   Column         Non-Null Count  Dtype \n",
      "---  ------         --------------  ----- \n",
      " 0   nome_material  5 non-null      object\n",
      " 1   lote           5 non-null      object\n",
      " 2   quantidade     5 non-null      int64 \n",
      " 3   unidade        5 non-null      object\n",
      " 4   solicitante    5 non-null      object\n",
      " 5   validade       5 non-null      object\n",
      " 6   tipo_material  5 non-null      object\n",
      "dtypes: int64(1), object(6)\n",
      "memory usage: 408.0+ bytes\n"
     ]
    }
   ],
   "source": [
    "df.info()"
   ]
  },
  {
   "cell_type": "code",
   "execution_count": 85,
   "metadata": {},
   "outputs": [
    {
     "name": "stdout",
     "output_type": "stream",
     "text": [
      "Dados inseridos com sucesso\n"
     ]
    }
   ],
   "source": [
    "for index, row in df.iterrows():\n",
    "    inserir_cadastro(row)\n",
    "\n",
    "print('Dados inseridos com sucesso')"
   ]
  },
  {
   "cell_type": "code",
   "execution_count": 86,
   "metadata": {},
   "outputs": [],
   "source": [
    "def selecionar_cadastro():\n",
    "    conn = sqlite3.connect('estoque.db')\n",
    "    cursor = conn.cursor()\n",
    "    cursor.execute(\"SELECT * FROM cadastro\")\n",
    "    resultado = cursor.fetchall()\n",
    "    conn.close()\n",
    "    return resultado"
   ]
  },
  {
   "cell_type": "code",
   "execution_count": 89,
   "metadata": {},
   "outputs": [],
   "source": [
    "resultado = selecionar_cadastro()"
   ]
  },
  {
   "cell_type": "code",
   "execution_count": 90,
   "metadata": {},
   "outputs": [
    {
     "data": {
      "text/plain": [
       "[(1, 'blister', '15B25', 5, 'un', 'Diullio', '2026-02-01', 'material'),\n",
       " (2, 'caixa', '15B26', 15, 'cx', 'Luiz Gustavo', '2026-02-02', 'material'),\n",
       " (3,\n",
       "  'acetonitrila',\n",
       "  '15B27',\n",
       "  60,\n",
       "  'frasco',\n",
       "  'Luis Fernando',\n",
       "  '2026-02-03',\n",
       "  'reagente'),\n",
       " (4, 'metanol', '15B28', 58, 'frasco', 'Diullio', '2026-02-04', 'reagente'),\n",
       " (5, 'padrao', '15B29', 10, 'frasco', 'Joao', '2026-02-05', 'material')]"
      ]
     },
     "execution_count": 90,
     "metadata": {},
     "output_type": "execute_result"
    }
   ],
   "source": [
    "resultado"
   ]
  }
 ],
 "metadata": {
  "kernelspec": {
   "display_name": "ds-3.8",
   "language": "python",
   "name": "python3"
  },
  "language_info": {
   "codemirror_mode": {
    "name": "ipython",
    "version": 3
   },
   "file_extension": ".py",
   "mimetype": "text/x-python",
   "name": "python",
   "nbconvert_exporter": "python",
   "pygments_lexer": "ipython3",
   "version": "3.8.19"
  }
 },
 "nbformat": 4,
 "nbformat_minor": 2
}
